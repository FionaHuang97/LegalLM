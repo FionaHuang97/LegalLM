{
  "nbformat": 4,
  "nbformat_minor": 0,
  "metadata": {
    "colab": {
      "name": "example_use_dictionary.ipynb",
      "provenance": [],
      "authorship_tag": "ABX9TyMnctrv2dR4zxS399jvb21I",
      "include_colab_link": true
    },
    "kernelspec": {
      "name": "python3",
      "display_name": "Python 3"
    }
  },
  "cells": [
    {
      "cell_type": "markdown",
      "metadata": {
        "id": "view-in-github",
        "colab_type": "text"
      },
      "source": [
        "<a href=\"https://colab.research.google.com/github/charleslow-cmu/bva-capstone/blob/master/dictionary/example_use_dictionary.ipynb\" target=\"_parent\"><img src=\"https://colab.research.google.com/assets/colab-badge.svg\" alt=\"Open In Colab\"/></a>"
      ]
    },
    {
      "cell_type": "code",
      "metadata": {
        "id": "dhQxbZXOEaho",
        "colab_type": "code",
        "colab": {
          "base_uri": "https://localhost:8080/",
          "height": 35
        },
        "outputId": "b1331707-d4f8-4c7c-dea5-1e3aa3253864"
      },
      "source": [
        "# Authenticate to GCP\n",
        "project_id = 'bva-appeal'\n",
        "processed_bucket_name = \"bva-appeal-processed-data\"\n",
        "from google.colab import auth\n",
        "auth.authenticate_user()\n",
        "!gcloud config set project {project_id}"
      ],
      "execution_count": 1,
      "outputs": [
        {
          "output_type": "stream",
          "text": [
            "Updated property [core/project].\n"
          ],
          "name": "stdout"
        }
      ]
    },
    {
      "cell_type": "code",
      "metadata": {
        "id": "wu0hnkw2EnpA",
        "colab_type": "code",
        "colab": {}
      },
      "source": [
        "%%capture\n",
        "# install Google cloud storage FUSE to mount GCP buckets on colab\n",
        "!echo \"deb http://packages.cloud.google.com/apt gcsfuse-bionic main\" > /etc/apt/sources.list.d/gcsfuse.list\n",
        "!curl https://packages.cloud.google.com/apt/doc/apt-key.gpg | apt-key add -\n",
        "!apt -qq update\n",
        "!apt -qq install gcsfuse\n",
        "!mkdir /bva-data\n",
        "!gcsfuse bva-appeal-processed-data /bva-data # caution on write and/or delete"
      ],
      "execution_count": 0,
      "outputs": []
    },
    {
      "cell_type": "code",
      "metadata": {
        "id": "bmj85OV0Ep00",
        "colab_type": "code",
        "colab": {
          "base_uri": "https://localhost:8080/",
          "height": 35
        },
        "outputId": "f354f141-80f7-4b3e-9f58-4f07d45aa23d"
      },
      "source": [
        "import pymongo\n",
        "import os\n",
        "from functools import reduce\n",
        "os.chdir('/bva-data/')\n",
        "from db_config import *     # Credentials stored here\n",
        "\n",
        "# connect to mongo database\n",
        "db = pymongo.MongoClient(host=DB_HOST, port=DB_PORT)[DB_DATABASE]\n",
        "db.authenticate(DB_USER, DB_PASSWORD)"
      ],
      "execution_count": 3,
      "outputs": [
        {
          "output_type": "execute_result",
          "data": {
            "text/plain": [
              "True"
            ]
          },
          "metadata": {
            "tags": []
          },
          "execution_count": 3
        }
      ]
    },
    {
      "cell_type": "code",
      "metadata": {
        "id": "DKHaGQWKEwTX",
        "colab_type": "code",
        "colab": {}
      },
      "source": [
        "# Utility class to label metadata codes\n",
        "class Dictionary():\n",
        "    def __init__(self):\n",
        "        self.issue_dict = db.code_dictionary.find_one({\"name\": \"issue\"})['dict']\n",
        "        self.issdc_dict = db.code_dictionary.find_one({\"name\": \"issdc\"})['dict']\n",
        "        self.cvdisp_dict = db.code_dictionary.find_one({\"name\": \"cvdisp\"})['dict']\n",
        "        self.issue_levels = [\"issprog\", \"isscode\", \"isslev1\", \"isslev2\", \"isslev3\"]\n",
        "\n",
        "    # Given issue codes, return the relevant label\n",
        "    def label_issue(self, **kwargs):\n",
        "        list_conditions = []\n",
        "        for var in self.issue_levels:\n",
        "            if var in kwargs:\n",
        "                list_conditions.append(var)\n",
        "                list_conditions.append(str(kwargs[var]))\n",
        "        return reduce(dict.__getitem__, list_conditions + [\"label\"], self.issue_dict)\n",
        "\n",
        "    # Given issdc code, return label\n",
        "    def label_issdc(self, issdc):\n",
        "        return self.issdc_dict[\"issdc\"][str(issdc)]['label']\n",
        "\n",
        "    # Given cvdisp code, return label\n",
        "    def label_cvdisp(self, cvdisp):\n",
        "        return self.cvdisp_dict[\"cvdisp\"][str(cvdisp)]['label']\n",
        "\n",
        "# Init\n",
        "dictionary = Dictionary()"
      ],
      "execution_count": 0,
      "outputs": []
    },
    {
      "cell_type": "code",
      "metadata": {
        "id": "s3MsnJY7E5BL",
        "colab_type": "code",
        "colab": {
          "base_uri": "https://localhost:8080/",
          "height": 35
        },
        "outputId": "7c7f3297-5672-4e12-d604-169a6a070d0b"
      },
      "source": [
        "dictionary.label_issue(issprog=2, isscode=12, isslev1=1)"
      ],
      "execution_count": 12,
      "outputs": [
        {
          "output_type": "execute_result",
          "data": {
            "text/plain": [
              "'10% under 38 C.F.R. 3.324'"
            ]
          },
          "metadata": {
            "tags": []
          },
          "execution_count": 12
        }
      ]
    },
    {
      "cell_type": "code",
      "metadata": {
        "id": "rh48RQlVFMHf",
        "colab_type": "code",
        "colab": {
          "base_uri": "https://localhost:8080/",
          "height": 35
        },
        "outputId": "7e483506-0a2c-401a-c432-80597e8f0ccf"
      },
      "source": [
        "dictionary.label_cvdisp(1)"
      ],
      "execution_count": 9,
      "outputs": [
        {
          "output_type": "execute_result",
          "data": {
            "text/plain": [
              "'Affirmed'"
            ]
          },
          "metadata": {
            "tags": []
          },
          "execution_count": 9
        }
      ]
    },
    {
      "cell_type": "code",
      "metadata": {
        "id": "hLRqEsZJFSCB",
        "colab_type": "code",
        "colab": {
          "base_uri": "https://localhost:8080/",
          "height": 35
        },
        "outputId": "3ab39678-46ce-4846-99b4-8adcc35dc355"
      },
      "source": [
        "dictionary.label_issdc(4)"
      ],
      "execution_count": 11,
      "outputs": [
        {
          "output_type": "execute_result",
          "data": {
            "text/plain": [
              "'Denied (Board Code)'"
            ]
          },
          "metadata": {
            "tags": []
          },
          "execution_count": 11
        }
      ]
    }
  ]
}