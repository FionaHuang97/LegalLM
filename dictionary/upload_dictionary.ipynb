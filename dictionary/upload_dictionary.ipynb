{
  "nbformat": 4,
  "nbformat_minor": 0,
  "metadata": {
    "colab": {
      "name": "upload_dictionary.ipynb",
      "provenance": [],
      "collapsed_sections": [],
      "toc_visible": true,
      "authorship_tag": "ABX9TyO+uvkK5DThBE1PpqPhDX5Q",
      "include_colab_link": true
    },
    "kernelspec": {
      "name": "python3",
      "display_name": "Python 3"
    }
  },
  "cells": [
    {
      "cell_type": "markdown",
      "metadata": {
        "id": "view-in-github",
        "colab_type": "text"
      },
      "source": [
        "<a href=\"https://colab.research.google.com/github/charleslow-cmu/bva-capstone/blob/master/dictionary/upload_dictionary.ipynb\" target=\"_parent\"><img src=\"https://colab.research.google.com/assets/colab-badge.svg\" alt=\"Open In Colab\"/></a>"
      ]
    },
    {
      "cell_type": "markdown",
      "metadata": {
        "id": "mKy-uuRPltEM",
        "colab_type": "text"
      },
      "source": [
        "This notebook converts the data dictionaries from .csv to .json format and uploads it to the Mongodb collection `data_dictionary`."
      ]
    },
    {
      "cell_type": "code",
      "metadata": {
        "id": "fPbFeYGTlfAG",
        "colab_type": "code",
        "colab": {
          "base_uri": "https://localhost:8080/",
          "height": 35
        },
        "outputId": "939c1c11-3843-446d-cf80-d25a26cca66a"
      },
      "source": [
        "# Authenticate to GCP\n",
        "project_id = 'bva-appeal'\n",
        "from google.colab import auth\n",
        "auth.authenticate_user()\n",
        "!gcloud config set project {project_id}"
      ],
      "execution_count": 1,
      "outputs": [
        {
          "output_type": "stream",
          "text": [
            "Updated property [core/project].\n"
          ],
          "name": "stdout"
        }
      ]
    },
    {
      "cell_type": "code",
      "metadata": {
        "id": "6ElvBB4vlquZ",
        "colab_type": "code",
        "colab": {}
      },
      "source": [
        "%%capture\n",
        "# install Google cloud storage FUSE to mount GCP buckets on colab\n",
        "!echo \"deb http://packages.cloud.google.com/apt gcsfuse-bionic main\" > /etc/apt/sources.list.d/gcsfuse.list\n",
        "!curl https://packages.cloud.google.com/apt/doc/apt-key.gpg | apt-key add -\n",
        "!apt -qq update\n",
        "!apt -qq install gcsfuse\n",
        "!mkdir /raw-data\n",
        "!gcsfuse bva-appeal-raw-data /raw-data # caution on write and/or delete\n",
        "import os\n",
        "os.chdir(\"/raw-data\")"
      ],
      "execution_count": 0,
      "outputs": []
    },
    {
      "cell_type": "code",
      "metadata": {
        "id": "SvaHyguPyBLp",
        "colab_type": "code",
        "colab": {
          "base_uri": "https://localhost:8080/",
          "height": 35
        },
        "outputId": "40e587f5-7441-431b-d373-b4feeffdaa83"
      },
      "source": [
        "# connect to mongo database\n",
        "import pymongo\n",
        "from db_config import *\n",
        "db = pymongo.MongoClient(host=DB_HOST, port=DB_PORT)[DB_DATABASE]\n",
        "db.authenticate(DB_USER, DB_PASSWORD)"
      ],
      "execution_count": 52,
      "outputs": [
        {
          "output_type": "execute_result",
          "data": {
            "text/plain": [
              "True"
            ]
          },
          "metadata": {
            "tags": []
          },
          "execution_count": 52
        }
      ]
    },
    {
      "cell_type": "markdown",
      "metadata": {
        "id": "mRJQJg-NmltC",
        "colab_type": "text"
      },
      "source": [
        "### Load Files"
      ]
    },
    {
      "cell_type": "code",
      "metadata": {
        "id": "WVFwQB6wmnwP",
        "colab_type": "code",
        "colab": {}
      },
      "source": [
        "import pandas as pd\n",
        "import numpy as np\n",
        "import json\n",
        "issue_csv = pd.read_csv(\"issue_dict.csv\", dtype=str)\n",
        "issdc_csv = pd.read_csv(\"issdc_dict.csv\", dtype=str)\n",
        "cvdisp_csv = pd.read_csv(\"cvdisp_dict.csv\", dtype=str)"
      ],
      "execution_count": 0,
      "outputs": []
    },
    {
      "cell_type": "markdown",
      "metadata": {
        "id": "zuW9pMxPmZYF",
        "colab_type": "text"
      },
      "source": [
        "### Code to Convert to Json\n",
        "This code converts the .csv files to .json"
      ]
    },
    {
      "cell_type": "code",
      "metadata": {
        "id": "BxC_VN97l9u8",
        "colab_type": "code",
        "colab": {}
      },
      "source": [
        "# Convert csv files for the bva codes into json files\n",
        "# Recursively scans columns left to right, depth-first\n",
        "def make_dict(df):\n",
        "    if df.shape[0] == 0 or df.shape[1] == 0:\n",
        "        return\n",
        "\n",
        "    code_name = df.columns[0]\n",
        "    label_name = df.columns[1]\n",
        "    current_code = code_name.split(\"_\")[0]\n",
        "    current_dict = {}\n",
        "    child_dict = {}\n",
        "\n",
        "    for code in df[code_name].unique():\n",
        "\n",
        "        # Subset based on each code value\n",
        "        df_subset = df[df[code_name] == code]\n",
        "        label = df_subset[label_name].unique()\n",
        "        if len(label) == 0:\n",
        "            continue\n",
        "        df_subset = df_subset.drop([code_name, label_name], axis=1)\n",
        "        child_dict[code] = {\"label\": label[0]}\n",
        "\n",
        "        # If columns remaining, append children\n",
        "        if df_subset.shape[1] > 0 and df_subset.shape[0] > 0:\n",
        "            grandchild = make_dict(df_subset)\n",
        "            if len(grandchild) > 0:\n",
        "                child_dict[code].update(**grandchild)\n",
        "\n",
        "    # Finally append\n",
        "    if len(child_dict) > 0:\n",
        "        current_dict[current_code] = child_dict\n",
        "\n",
        "    return current_dict"
      ],
      "execution_count": 0,
      "outputs": []
    },
    {
      "cell_type": "code",
      "metadata": {
        "id": "kx80KYI2ymXi",
        "colab_type": "code",
        "colab": {}
      },
      "source": [
        "# Compute\n",
        "dictionaries = [{\"name\": \"issue\", \"dict\": make_dict(issue_csv)},\n",
        "                {\"name\": \"issdc\", \"dict\": make_dict(issdc_csv)},\n",
        "                {\"name\": \"cvdisp\", \"dict\": make_dict(cvdisp_csv)}]"
      ],
      "execution_count": 0,
      "outputs": []
    },
    {
      "cell_type": "code",
      "metadata": {
        "id": "9tF1Y1bsyxvk",
        "colab_type": "code",
        "colab": {
          "base_uri": "https://localhost:8080/",
          "height": 1000
        },
        "outputId": "eafc7073-d88d-4b8e-8ed3-31d1d1272492"
      },
      "source": [
        "# Example\n",
        "print(json.dumps(dictionaries[1], indent=2))"
      ],
      "execution_count": 65,
      "outputs": [
        {
          "output_type": "stream",
          "text": [
            "{\n",
            "  \"name\": \"issdc\",\n",
            "  \"dict\": {\n",
            "    \"issdc\": {\n",
            "      \"1\": {\n",
            "        \"label\": \"Allowed (Board Code)\"\n",
            "      },\n",
            "      \"3\": {\n",
            "        \"label\": \"Remanded (Board Code)\"\n",
            "      },\n",
            "      \"4\": {\n",
            "        \"label\": \"Denied (Board Code)\"\n",
            "      },\n",
            "      \"5\": {\n",
            "        \"label\": \"Vacated (Board Code)\"\n",
            "      },\n",
            "      \"6\": {\n",
            "        \"label\": \"Dismissed/Withdrawn (Board Code)\"\n",
            "      },\n",
            "      \"8\": {\n",
            "        \"label\": \"Dismissed Death (Board Code)\"\n",
            "      },\n",
            "      \"9\": {\n",
            "        \"label\": \"Withdrawn (Obsolete Board Code, no longer used)\"\n",
            "      },\n",
            "      \"A\": {\n",
            "        \"label\": \"Adv Allowed in Field (VBA Code)\"\n",
            "      },\n",
            "      \"B\": {\n",
            "        \"label\": \"Benefits granted on Remand (VBA Code)\"\n",
            "      },\n",
            "      \"D\": {\n",
            "        \"label\": \"Designation of Record (DOR) (Board Code)\"\n",
            "      },\n",
            "      \"E\": {\n",
            "        \"label\": \"Death, Field (VBA Code)\"\n",
            "      },\n",
            "      \"F\": {\n",
            "        \"label\": \"Withdrawn, Field (VBA Code)\"\n",
            "      },\n",
            "      \"G\": {\n",
            "        \"label\": \"Closed for Failure to Submit Form 9 (VBA Code)\"\n",
            "      },\n",
            "      \"L\": {\n",
            "        \"label\": \"Manlincon New Issue (Field) (VBA Code)\"\n",
            "      },\n",
            "      \"M\": {\n",
            "        \"label\": \"Merged Appeal (Board Code)\"\n",
            "      },\n",
            "      \"P\": {\n",
            "        \"label\": \"RAMP Withdraw (VBA Code)\"\n",
            "      },\n",
            "      \"R\": {\n",
            "        \"label\": \"Reconsideration by Letter (Board Code)\"\n",
            "      },\n",
            "      \"S\": {\n",
            "        \"label\": \"Stay (Board Code)\"\n",
            "      },\n",
            "      \"U\": {\n",
            "        \"label\": \"Motion to Vacate Denied (Board Code)\"\n",
            "      },\n",
            "      \"V\": {\n",
            "        \"label\": \"Motion to Vacate Withdrawn (Board Code)\"\n",
            "      },\n",
            "      \"W\": {\n",
            "        \"label\": \"Withdrawn on Remand (VBA Code)\"\n",
            "      },\n",
            "      \"X\": {\n",
            "        \"label\": \"Failure to Respond on Remand (VBA Code)\"\n",
            "      }\n",
            "    }\n",
            "  }\n",
            "}\n"
          ],
          "name": "stdout"
        }
      ]
    },
    {
      "cell_type": "code",
      "metadata": {
        "id": "-BRJPD_lx2bM",
        "colab_type": "code",
        "colab": {
          "base_uri": "https://localhost:8080/",
          "height": 35
        },
        "outputId": "918fb18f-5ebb-480a-fd9e-81cda54b5118"
      },
      "source": [
        "# Upload to mongodb\n",
        "db.code_dictionary.insert_many(dictionaries)"
      ],
      "execution_count": 58,
      "outputs": [
        {
          "output_type": "execute_result",
          "data": {
            "text/plain": [
              "<pymongo.results.InsertManyResult at 0x7f80ae4fcec8>"
            ]
          },
          "metadata": {
            "tags": []
          },
          "execution_count": 58
        }
      ]
    },
    {
      "cell_type": "code",
      "metadata": {
        "id": "d3pNoiJIzePu",
        "colab_type": "code",
        "colab": {
          "base_uri": "https://localhost:8080/",
          "height": 35
        },
        "outputId": "7d2f7995-9bee-462b-c81c-dc934c6f3c58"
      },
      "source": [
        "# Look up dictionary\n",
        "issue_dict = db.code_dictionary.find_one({\"name\": \"issue\"})\n",
        "issue_dict[\"dict\"][\"issprog\"][\"2\"][\"isscode\"][\"4\"][\"label\"] # Label of issprog=2, isscode=4"
      ],
      "execution_count": 83,
      "outputs": [
        {
          "output_type": "execute_result",
          "data": {
            "text/plain": [
              "'Civil Service preference'"
            ]
          },
          "metadata": {
            "tags": []
          },
          "execution_count": 83
        }
      ]
    }
  ]
}